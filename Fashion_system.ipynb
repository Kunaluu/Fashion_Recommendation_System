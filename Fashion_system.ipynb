{
 "cells": [
  {
   "cell_type": "code",
   "execution_count": 1,
   "metadata": {},
   "outputs": [],
   "source": [
    "import numpy as np\n",
    "import matplotlib.pyplot as plt\n",
    "import seaborn as sns\n",
    "import tensorflow as tf"
   ]
  },
  {
   "cell_type": "code",
   "execution_count": 4,
   "metadata": {},
   "outputs": [],
   "source": [
    "#defining a specific image size and batch size for the images\n",
    "image_size = (150,150)\n",
    "batch_size = 32"
   ]
  },
  {
   "cell_type": "code",
   "execution_count": 8,
   "metadata": {},
   "outputs": [
    {
     "name": "stdout",
     "output_type": "stream",
     "text": [
      "Found 3068 images belonging to 10 classes.\n",
      "Found 341 images belonging to 10 classes.\n"
     ]
    }
   ],
   "source": [
    "from keras.preprocessing.image import ImageDataGenerator\n",
    "#creating a data generator for training and validation.\n",
    "train_gen =  ImageDataGenerator(rescale = 1./255, horizontal_flip = True)\n",
    "train_ds = train_gen.flow_from_directory(\n",
    "    r\"C:\\Users\\hp\\Desktop\\Random Programs\\Python\\projects\\venv\\Actual projects\\Fashion_Rec_System\\Dataset\\train\",\n",
    "    seed=1,\n",
    "    target_size=image_size,\n",
    "    batch_size=batch_size,\n",
    ")\n",
    "\n",
    "validation_gen = ImageDataGenerator(rescale=1./255, horizontal_flip = True)\n",
    "val_ds = train_gen.flow_from_directory(\n",
    "    r\"C:\\Users\\hp\\Desktop\\Random Programs\\Python\\projects\\venv\\Actual projects\\Fashion_Rec_System\\Dataset\\validation\",\n",
    "    seed=1,\n",
    "    target_size=image_size,\n",
    "    batch_size=batch_size,\n",
    ")"
   ]
  },
  {
   "cell_type": "code",
   "execution_count": null,
   "metadata": {},
   "outputs": [],
   "source": []
  }
 ],
 "metadata": {
  "kernelspec": {
   "display_name": "Python 3.10.4 64-bit",
   "language": "python",
   "name": "python3"
  },
  "language_info": {
   "codemirror_mode": {
    "name": "ipython",
    "version": 3
   },
   "file_extension": ".py",
   "mimetype": "text/x-python",
   "name": "python",
   "nbconvert_exporter": "python",
   "pygments_lexer": "ipython3",
   "version": "3.10.4"
  },
  "orig_nbformat": 4,
  "vscode": {
   "interpreter": {
    "hash": "63963b3f4c440940f0b94a3100916033a226cb4f45979123153792d60aa56d6a"
   }
  }
 },
 "nbformat": 4,
 "nbformat_minor": 2
}
